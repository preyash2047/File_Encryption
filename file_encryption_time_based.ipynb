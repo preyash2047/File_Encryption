{
 "cells": [
  {
   "cell_type": "code",
   "execution_count": 8,
   "metadata": {},
   "outputs": [
    {
     "name": "stdout",
     "output_type": "stream",
     "text": [
      "Enter File path to encrypt or decryptC:\\Users\\preya\\Videos\\Captures\\Adele - Rolling in the Deep_Full-HD.mp4.aes\n",
      "Hello remember me at 912\n",
      "Error: It is not Right moment to open this file!\n"
     ]
    }
   ],
   "source": [
    "import pyAesCrypt\n",
    "import datetime\n",
    "import os\n",
    "\n",
    "try:\n",
    "    inputFile = input(\"Enter File path to encrypt or decrypt\")\n",
    "    text = datetime.datetime.now()\n",
    "    hh = int(text.strftime(\"%H\"))\n",
    "    mm = int(text.strftime(\"%M\"))\n",
    "    password = str((hh-0.2047)**(.2047+mm))\n",
    "    \n",
    "    if inputFile[-3:] == 'aes': \n",
    "        newFile = inputFile[:-4]\n",
    "        pyAesCrypt.decryptFile(inputFile, newFile, password, (64 * 1024))\n",
    "        option = input(\"Do you want to Delete File .aes File\")\n",
    "        \n",
    "    else:\n",
    "        print(f\"Hello remember me at {hh}{mm}\")\n",
    "        newFile = inputFile+\".aes\"\n",
    "        pyAesCrypt.encryptFile(inputFile, newFile, password, (64 * 1024))\n",
    "        option = input(\"Do you want to Delete File Orignla File: \")\n",
    "        \n",
    "    if \"y\" in list(option.lower()):\n",
    "        os.remove(inputFile)\n",
    "        \n",
    "except FileNotFoundError:\n",
    "    print(\"Error: File Not found\")\n",
    "\n",
    "except:\n",
    "    print(\"Error: It is not Right moment to open this file!\")\n",
    "\n",
    "else:\n",
    "    print(\"Transaction is Successful\")"
   ]
  },
  {
   "cell_type": "code",
   "execution_count": null,
   "metadata": {},
   "outputs": [],
   "source": []
  }
 ],
 "metadata": {
  "kernelspec": {
   "display_name": "Python 3",
   "language": "python",
   "name": "python3"
  },
  "language_info": {
   "codemirror_mode": {
    "name": "ipython",
    "version": 3
   },
   "file_extension": ".py",
   "mimetype": "text/x-python",
   "name": "python",
   "nbconvert_exporter": "python",
   "pygments_lexer": "ipython3",
   "version": "3.8.1"
  }
 },
 "nbformat": 4,
 "nbformat_minor": 4
}
